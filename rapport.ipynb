{
 "cells": [
  {
   "cell_type": "markdown",
   "id": "dfaa7adb",
   "metadata": {},
   "source": [
    "# Rapport\n"
   ]
  },
  {
   "cell_type": "markdown",
   "id": "24b5fcf7",
   "metadata": {},
   "source": [
    "***Expériences commentées et analyses, documentation des développements, etc.. Vous êtes invité à y expliquer votre démarche, surtout lorsque vous avez rencontré des difficultés, et à y présenter les problèmes, options (comment aborder le problème), décisions (quelle option choisir), résultats (si/comment ça a fonctionné). Cette partie sera notée par des points bonus.***"
   ]
  },
  {
   "cell_type": "markdown",
   "id": "5f822a46",
   "metadata": {},
   "source": [
    "Avant de tenter le projet, le projet me semblait assez intimidant avec beaucoup de codes et de nombreux éléments inédits. Cependant, une fois que j'ai commencé à travailler sur chaque question, elles me guidait vers la suivante (bien qu'elles soient assez indépendantes par ailleurs) et m'aidait à mieux comprendre les structures de données impliquées dans la manipulation de différents codes et fichiers.\n",
    "\n",
    "Avec des listes et des dictionnaires à plusieurs couches, il n'était pas facile de suivre à chaque fois le type de variable auquel je suis confronté sans évaluer entre les étapes pour voir ce qui se passe. En faisant cela, je pouvais résoudre les erreurs d'index par exemple qui se produisaient lorsque je traitais les dictionnaires comme des listes ou vice versa.\n",
    "\n",
    "Une fois le notebook v0 terminé, la partie de \"object oriented programming\" des notebooks v1 et v2 était plus intéressante et plus intuitive. De nombreuses questions dans les notebooks m'ont obligé à faire des recherches en ligne sur des problèmes tels que la lecture d'une image PNG et son décodage, ainsi que la gestion des emojis au début du notebook.\n",
    "\n",
    "A chaque fois que je rencontrais un message d'erreur ou chaque fois que j'obtenais quelque chose de différent de ce qui était attendu, il m'était très utile de lancer le même fichier sur jupyter et de faire un débugage manuel et de voir les résultats imprimés aux étapes pertinentes."
   ]
  }
 ],
 "metadata": {
  "kernelspec": {
   "display_name": "Python 3 (ipykernel)",
   "language": "python",
   "name": "python3"
  },
  "language_info": {
   "codemirror_mode": {
    "name": "ipython",
    "version": 3
   },
   "file_extension": ".py",
   "mimetype": "text/x-python",
   "name": "python",
   "nbconvert_exporter": "python",
   "pygments_lexer": "ipython3",
   "version": "3.9.5"
  }
 },
 "nbformat": 4,
 "nbformat_minor": 5
}
